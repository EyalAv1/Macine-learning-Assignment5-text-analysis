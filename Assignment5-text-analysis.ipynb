{
 "cells": [
  {
   "attachments": {},
   "cell_type": "markdown",
   "metadata": {},
   "source": [
    "# Assignment 5 - Text Analysis\n",
    "An explanation this assignment could be found in the .pdf explanation document"
   ]
  },
  {
   "attachments": {},
   "cell_type": "markdown",
   "metadata": {},
   "source": [
    "\n",
    "## Materials to review for this assignment\n",
    "<h4>From Moodle:</h4> \n",
    "<h5><u>Review the notebooks regarding the following python topics</u>:</h5>\n",
    "<div class=\"alert alert-info\">\n",
    "&#x2714; <b>Working with strings</b> (tutorial notebook)<br/>\n",
    "&#x2714; <b>Text Analysis</b> (tutorial notebook)<br/>\n",
    "&#x2714; <b>Hebrew text analysis tools (tokenizer, wordnet)</b> (moodle example)<br/>\n",
    "&#x2714; <b>(brief review) All previous notebooks</b><br/>\n",
    "</div> \n",
    "<h5><u>Review the presentations regarding the following topics</u>:</h5>\n",
    "<div class=\"alert alert-info\">\n",
    "&#x2714; <b>Text Analysis</b> (lecture presentation)<br/>\n",
    "&#x2714; <b>(brief review) All other presentations</b><br/>\n",
    "</div>"
   ]
  },
  {
   "attachments": {},
   "cell_type": "markdown",
   "metadata": {},
   "source": [
    "## Preceding Step - import modules (packages)\n",
    "This step is necessary in order to use external modules (packages). <br/>"
   ]
  },
  {
   "cell_type": "code",
   "execution_count": 1,
   "metadata": {},
   "outputs": [],
   "source": [
    "# --------------------------------------\n",
    "import pandas as pd\n",
    "import numpy as np\n",
    "# --------------------------------------\n",
    "\n",
    "\n",
    "# --------------------------------------\n",
    "# ------------- visualizations:\n",
    "import seaborn as sns\n",
    "import matplotlib.pyplot as plt\n",
    "from matplotlib.colors import ListedColormap\n",
    "# --------------------------------------\n",
    "\n",
    "\n",
    "# ---------------------------------------\n",
    "import sklearn\n",
    "from sklearn import preprocessing, metrics, pipeline, model_selection, feature_extraction \n",
    "from sklearn import naive_bayes, linear_model, svm, neural_network, neighbors, tree\n",
    "from sklearn import decomposition, cluster\n",
    "\n",
    "from sklearn.model_selection import train_test_split, cross_val_score, GridSearchCV \n",
    "from sklearn.pipeline import Pipeline\n",
    "from sklearn.metrics import accuracy_score, confusion_matrix\n",
    "from sklearn.metrics import precision_score, recall_score, f1_score\n",
    "from sklearn.metrics import mean_squared_error, r2_score, silhouette_score\n",
    "from sklearn.preprocessing import MinMaxScaler, StandardScaler, LabelEncoder\n",
    "\n",
    "from sklearn.svm import LinearSVC\n",
    "from sklearn.neural_network import MLPClassifier\n",
    "from sklearn.linear_model import Perceptron, SGDClassifier\n",
    "from sklearn.decomposition import PCA\n",
    "from sklearn.cluster import KMeans\n",
    "from sklearn.naive_bayes import MultinomialNB, GaussianNB\n",
    "from sklearn.neighbors import KNeighborsClassifier\n",
    "from sklearn.tree import DecisionTreeClassifier\n",
    "# ---------------------------------------\n",
    "\n",
    "\n",
    "# ----------------- output and visualizations: \n",
    "import warnings\n",
    "from sklearn.exceptions import ConvergenceWarning\n",
    "warnings.simplefilter(\"ignore\")\n",
    "warnings.simplefilter(action='ignore', category=FutureWarning)\n",
    "warnings.simplefilter(\"ignore\", category=ConvergenceWarning)\n",
    "# show several prints in one cell. This will allow us to condence every trick in one cell.\n",
    "from IPython.core.interactiveshell import InteractiveShell\n",
    "InteractiveShell.ast_node_interactivity = \"all\"\n",
    "%matplotlib inline\n",
    "pd.pandas.set_option('display.max_columns', None)\n",
    "pd.set_option('display.float_format', lambda x: '%.3f' % x)\n",
    "# ---------------------------------------"
   ]
  },
  {
   "attachments": {},
   "cell_type": "markdown",
   "metadata": {},
   "source": [
    "### Text analysis and String manipulation imports:"
   ]
  },
  {
   "cell_type": "code",
   "execution_count": 2,
   "metadata": {},
   "outputs": [],
   "source": [
    "# --------------------------------------\n",
    "# --------- Text analysis and Hebrew text analysis imports:\n",
    "# vectorizers:\n",
    "from sklearn.feature_extraction import text\n",
    "from sklearn.feature_extraction.text import CountVectorizer, TfidfVectorizer\n",
    "\n",
    "# regular expressions:\n",
    "import re\n",
    "# --------------------------------------"
   ]
  },
  {
   "attachments": {},
   "cell_type": "markdown",
   "metadata": {},
   "source": [
    "### (optional) Hebrew text analysis - WordNet (for Hebrew)\n",
    "Note: the WordNet is not a must"
   ]
  },
  {
   "attachments": {},
   "cell_type": "markdown",
   "metadata": {},
   "source": [
    "#### (optional) Only if you didn't install Wordnet (for Hebrew) use:"
   ]
  },
  {
   "cell_type": "code",
   "execution_count": null,
   "metadata": {},
   "outputs": [],
   "source": [
    "# word net installation:\n",
    "\n",
    "# unmark if you want to use and need to install\n",
    "# !pip install wn\n",
    "# !python -m wn download omw-he:1.4"
   ]
  },
  {
   "cell_type": "code",
   "execution_count": null,
   "metadata": {},
   "outputs": [],
   "source": [
    "# word net import:\n",
    "\n",
    "# unmark if you want to use:\n",
    "# import wn"
   ]
  },
  {
   "attachments": {},
   "cell_type": "markdown",
   "metadata": {},
   "source": [
    "### (optional) Hebrew text analysis - hebrew_tokenizer (Tokenizer for Hebrew)\n",
    "Note: the hebrew_tokenizer is not a must"
   ]
  },
  {
   "attachments": {},
   "cell_type": "markdown",
   "metadata": {},
   "source": [
    "#### (optional) Only if you didn't install hebrew_tokenizer use:"
   ]
  },
  {
   "cell_type": "code",
   "execution_count": null,
   "metadata": {},
   "outputs": [],
   "source": [
    "# Hebrew tokenizer installation:\n",
    "\n",
    "# unmark if you want to use and need to install:\n",
    "# !pip install hebrew_tokenizer"
   ]
  },
  {
   "cell_type": "code",
   "execution_count": null,
   "metadata": {},
   "outputs": [],
   "source": [
    "# Hebrew tokenizer import:\n",
    "\n",
    "# unmark if you want to use:\n",
    "# import hebrew_tokenizer as ht"
   ]
  },
  {
   "attachments": {},
   "cell_type": "markdown",
   "metadata": {},
   "source": [
    "### Reading input files\n",
    "Reading input files for train annotated corpus (raw text data) corpus and for the test corpus"
   ]
  },
  {
   "cell_type": "code",
   "execution_count": 4,
   "metadata": {},
   "outputs": [],
   "source": [
    "train_filename = 'annotated_corpus_for_train.csv'\n",
    "test_filename  = 'corpus_for_test.csv'\n",
    "df_train = pd.read_csv(train_filename, index_col=None, encoding='utf-8')\n",
    "df_test  = pd.read_csv(test_filename, index_col=None, encoding='utf-8')"
   ]
  },
  {
   "cell_type": "code",
   "execution_count": 5,
   "metadata": {},
   "outputs": [
    {
     "data": {
      "text/html": [
       "<div>\n",
       "<style scoped>\n",
       "    .dataframe tbody tr th:only-of-type {\n",
       "        vertical-align: middle;\n",
       "    }\n",
       "\n",
       "    .dataframe tbody tr th {\n",
       "        vertical-align: top;\n",
       "    }\n",
       "\n",
       "    .dataframe thead th {\n",
       "        text-align: right;\n",
       "    }\n",
       "</style>\n",
       "<table border=\"1\" class=\"dataframe\">\n",
       "  <thead>\n",
       "    <tr style=\"text-align: right;\">\n",
       "      <th></th>\n",
       "      <th>story</th>\n",
       "      <th>gender</th>\n",
       "    </tr>\n",
       "  </thead>\n",
       "  <tbody>\n",
       "    <tr>\n",
       "      <th>0</th>\n",
       "      <td>כשחבר הזמין אותי לחול, לא באמת חשבתי שזה יקרה,...</td>\n",
       "      <td>m</td>\n",
       "    </tr>\n",
       "    <tr>\n",
       "      <th>1</th>\n",
       "      <td>לפני שהתגייסתי לצבא עשיתי כל מני מיונים ליחידו...</td>\n",
       "      <td>m</td>\n",
       "    </tr>\n",
       "    <tr>\n",
       "      <th>2</th>\n",
       "      <td>מאז שהתחילו הלימודים חלומו של כל סטודנט זה הפנ...</td>\n",
       "      <td>f</td>\n",
       "    </tr>\n",
       "    <tr>\n",
       "      <th>3</th>\n",
       "      <td>כשהייתי ילד, מטוסים היה הדבר שהכי ריתק אותי. ב...</td>\n",
       "      <td>m</td>\n",
       "    </tr>\n",
       "    <tr>\n",
       "      <th>4</th>\n",
       "      <td>‏הייתי מדריכה בכפר נוער ומתאם הכפר היינו צריכי...</td>\n",
       "      <td>f</td>\n",
       "    </tr>\n",
       "    <tr>\n",
       "      <th>5</th>\n",
       "      <td>לפני כ3 חודשים טסתי לרומא למשך שבוע. טסתי במטו...</td>\n",
       "      <td>f</td>\n",
       "    </tr>\n",
       "    <tr>\n",
       "      <th>6</th>\n",
       "      <td>אני כבר שנתיים נשוי והשנה אני ואישתי סוף סוף י...</td>\n",
       "      <td>m</td>\n",
       "    </tr>\n",
       "    <tr>\n",
       "      <th>7</th>\n",
       "      <td>השנה התחלנו שיפוץ בדירה שלנו בתל אביב. הדירה ה...</td>\n",
       "      <td>f</td>\n",
       "    </tr>\n",
       "  </tbody>\n",
       "</table>\n",
       "</div>"
      ],
      "text/plain": [
       "                                               story gender\n",
       "0  כשחבר הזמין אותי לחול, לא באמת חשבתי שזה יקרה,...      m\n",
       "1  לפני שהתגייסתי לצבא עשיתי כל מני מיונים ליחידו...      m\n",
       "2  מאז שהתחילו הלימודים חלומו של כל סטודנט זה הפנ...      f\n",
       "3  כשהייתי ילד, מטוסים היה הדבר שהכי ריתק אותי. ב...      m\n",
       "4  ‏הייתי מדריכה בכפר נוער ומתאם הכפר היינו צריכי...      f\n",
       "5  לפני כ3 חודשים טסתי לרומא למשך שבוע. טסתי במטו...      f\n",
       "6  אני כבר שנתיים נשוי והשנה אני ואישתי סוף סוף י...      m\n",
       "7  השנה התחלנו שיפוץ בדירה שלנו בתל אביב. הדירה ה...      f"
      ]
     },
     "execution_count": 5,
     "metadata": {},
     "output_type": "execute_result"
    },
    {
     "data": {
      "text/plain": [
       "(753, 2)"
      ]
     },
     "execution_count": 5,
     "metadata": {},
     "output_type": "execute_result"
    }
   ],
   "source": [
    "df_train.head(8)\n",
    "df_train.shape"
   ]
  },
  {
   "cell_type": "code",
   "execution_count": 6,
   "metadata": {},
   "outputs": [
    {
     "data": {
      "text/html": [
       "<div>\n",
       "<style scoped>\n",
       "    .dataframe tbody tr th:only-of-type {\n",
       "        vertical-align: middle;\n",
       "    }\n",
       "\n",
       "    .dataframe tbody tr th {\n",
       "        vertical-align: top;\n",
       "    }\n",
       "\n",
       "    .dataframe thead th {\n",
       "        text-align: right;\n",
       "    }\n",
       "</style>\n",
       "<table border=\"1\" class=\"dataframe\">\n",
       "  <thead>\n",
       "    <tr style=\"text-align: right;\">\n",
       "      <th></th>\n",
       "      <th>test_example_id</th>\n",
       "      <th>story</th>\n",
       "    </tr>\n",
       "  </thead>\n",
       "  <tbody>\n",
       "    <tr>\n",
       "      <th>0</th>\n",
       "      <td>0</td>\n",
       "      <td>כל קיץ אני והמשפחה נוסעים לארצות הברית לוס אנג...</td>\n",
       "    </tr>\n",
       "    <tr>\n",
       "      <th>1</th>\n",
       "      <td>1</td>\n",
       "      <td>הגעתי לשירות המדינה אחרי שנתיים כפעיל בתנועת \"...</td>\n",
       "    </tr>\n",
       "    <tr>\n",
       "      <th>2</th>\n",
       "      <td>2</td>\n",
       "      <td>אחת האהבות הגדולות שלי אלו הכלבים שלי ושל אישת...</td>\n",
       "    </tr>\n",
       "  </tbody>\n",
       "</table>\n",
       "</div>"
      ],
      "text/plain": [
       "   test_example_id                                              story\n",
       "0                0  כל קיץ אני והמשפחה נוסעים לארצות הברית לוס אנג...\n",
       "1                1  הגעתי לשירות המדינה אחרי שנתיים כפעיל בתנועת \"...\n",
       "2                2  אחת האהבות הגדולות שלי אלו הכלבים שלי ושל אישת..."
      ]
     },
     "execution_count": 6,
     "metadata": {},
     "output_type": "execute_result"
    },
    {
     "data": {
      "text/plain": [
       "(323, 2)"
      ]
     },
     "execution_count": 6,
     "metadata": {},
     "output_type": "execute_result"
    }
   ],
   "source": [
    "df_test.head(3)\n",
    "df_test.shape"
   ]
  },
  {
   "attachments": {},
   "cell_type": "markdown",
   "metadata": {},
   "source": [
    "### Your implementation:\n",
    "Write your code solution in the following code-cells"
   ]
  },
  {
   "cell_type": "code",
   "execution_count": 7,
   "metadata": {},
   "outputs": [],
   "source": [
    "from sklearn.linear_model import LogisticRegression\n",
    "from sklearn.metrics import make_scorer"
   ]
  },
  {
   "attachments": {},
   "cell_type": "markdown",
   "metadata": {},
   "source": [
    "#### Preproccecing the text\n",
    "\n",
    "Clearing the text of punctuation marks and letters that are not in Hebrew, keep text with whitespaces. "
   ]
  },
  {
   "cell_type": "code",
   "execution_count": 8,
   "metadata": {},
   "outputs": [],
   "source": [
    "# YOUR CODE HERE\n",
    "def textPreprocess(df_train):\n",
    "    df_copy = df_train.copy()\n",
    "    stories_lst = list(df_copy[\"story\"])\n",
    "    for index, txt in enumerate(stories_lst):\n",
    "        tmp_txt = \"\"\n",
    "        for c in txt:\n",
    "            if (c >= 'א' and c <= 'ת') or c == ' ':\n",
    "                tmp_txt += c\n",
    "\n",
    "        stories_lst[index] = tmp_txt\n",
    "    df_copy[\"story\"] = stories_lst\n",
    "    return df_copy"
   ]
  },
  {
   "attachments": {},
   "cell_type": "markdown",
   "metadata": {},
   "source": [
    "#### Calculating the f1 score methos\n",
    "\n",
    "by running GridSearchCV on the modal with varies of given parameters, and I find the best parameters for the modal.\n",
    "I repet the precces for both male and female data.\n",
    "With cross_val_score I'm calculating the f1_score of both male and female and the calculate the average of these results.\n",
    "The methos returns all three scores"
   ]
  },
  {
   "cell_type": "code",
   "execution_count": 9,
   "metadata": {},
   "outputs": [],
   "source": [
    "# YOUR CODE HERE\n",
    "def calc_f1(modal, param, X_male, y_male, X_female, y_female):\n",
    "    \n",
    "    clf_male = GridSearchCV(modal, param, scoring=make_scorer(f1_score), cv=5, n_jobs=-1)\n",
    "    clf_male.fit(X_male, y_male)\n",
    "    best_params_male = clf_male.best_params_\n",
    "\n",
    "    clf_female = GridSearchCV(modal, param, scoring=make_scorer(f1_score), cv=5, n_jobs=-1)\n",
    "    clf_female.fit(X_female, y_female)\n",
    "    best_params_female = clf_female.best_params_\n",
    "\n",
    "    modal.set_params(**best_params_male)\n",
    "    f1_score_male = cross_val_score(modal, X_male, y_male, scoring=make_scorer(f1_score), cv=5).mean()\n",
    "\n",
    "    modal.set_params(**best_params_female)\n",
    "    f1_score_female = cross_val_score(modal, X_female, y_female, scoring=make_scorer(f1_score), cv=5).mean()\n",
    "\n",
    "    f1_average = (f1_score_male + f1_score_female) / 2\n",
    "    \n",
    "    return f1_score_male, f1_score_female, f1_average, modal"
   ]
  },
  {
   "attachments": {},
   "cell_type": "markdown",
   "metadata": {},
   "source": [
    "#### Vectorizing the data\n",
    "\n",
    "the methods creating a vectorizer object with a given parameters. Then I'm creathing a dataframe with the words as columns.\n",
    "To the vectorized dataframe I'm adding the \"gender\" column and return the dataframe.   "
   ]
  },
  {
   "cell_type": "code",
   "execution_count": 10,
   "metadata": {},
   "outputs": [],
   "source": [
    "# YOUR CODE HERE\n",
    "def tfidf_vectorization(min_df, max_df, ngrams, train_df):\n",
    "    vec = TfidfVectorizer(max_df=max_df, min_df=min_df, ngram_range=ngrams)\n",
    "    X_train = vec.fit_transform(train_df[\"story\"])\n",
    "    X_train_df = pd.DataFrame(X_train.toarray(), columns=vec.get_feature_names_out())\n",
    "    X_train_df[\"gender\"] = df_train[\"gender\"]\n",
    "    return vec, X_train_df\n",
    "\n",
    "def count_vectorization(min_df, max_df, ngrams, train_df):\n",
    "    vec = CountVectorizer(max_df=max_df, min_df=min_df, ngram_range=ngrams)\n",
    "    X_train = vec.fit_transform(train_df[\"story\"])\n",
    "    X_train_df = pd.DataFrame(X_train.toarray(), columns=vec.get_feature_names_out())\n",
    "    X_train_df[\"gender\"] = df_train[\"gender\"]\n",
    "    return vec, X_train_df"
   ]
  },
  {
   "attachments": {},
   "cell_type": "markdown",
   "metadata": {},
   "source": [
    "#### Splitting the data\n",
    "\n",
    "In order to work once on the female as '1' and once on the male as '1', I'm splitting the data to male and female and changing the string labels to '0' or '1'.\n",
    "Then I'm extructing the target column from the dataframe's columns and dividing the data for both genders.\n",
    "The method returns all the splitted data."
   ]
  },
  {
   "cell_type": "code",
   "execution_count": 11,
   "metadata": {},
   "outputs": [],
   "source": [
    "def split_data(X_train_df):\n",
    "    X_train_male = X_train_df.copy()\n",
    "    X_train_female = X_train_df.copy()\n",
    "\n",
    "    X_train_male[\"gender\"] = np.where(X_train_male[\"gender\"] == 'f', 0, 1)\n",
    "    X_train_female[\"gender\"] = np.where(X_train_female[\"gender\"] == 'f', 1, 0)\n",
    "\n",
    "    target_columns = X_train_df.columns[X_train_df.columns != \"gender\"]\n",
    "    X_male = X_train_male[target_columns]\n",
    "    X_female = X_train_female[target_columns]\n",
    "\n",
    "    y_male = X_train_male[\"gender\"]\n",
    "    y_female = X_train_female[\"gender\"]\n",
    "    return X_male, y_male, X_female, y_female"
   ]
  },
  {
   "attachments": {},
   "cell_type": "markdown",
   "metadata": {},
   "source": [
    "#### Predict the gender\n",
    "\n",
    "Prediciting the gender of the writer by runing the same procces on the test dataframe and predict with the best modal."
   ]
  },
  {
   "cell_type": "code",
   "execution_count": 12,
   "metadata": {},
   "outputs": [],
   "source": [
    "def predict_test_df(modal,vectorizer,df_test,X_train,y_train,gender):\n",
    "    full_txt = textPreprocess(df_test)\n",
    "    \n",
    "    df_test_vec = vectorizer.transform(full_txt[\"story\"])\n",
    "\n",
    "    X_test_df = pd.DataFrame(df_test_vec.toarray(), columns=vectorizer.get_feature_names_out())\n",
    "    clf = modal.fit(X_train,y_train)\n",
    "    y_pred = clf.predict(X_test_df)\n",
    "    \n",
    "    if gender == 'm':\n",
    "        y_pred = np.where(y_pred == 1,'m','f')\n",
    "    else:\n",
    "        y_pred = np.where(y_pred == 0,'m','f')\n",
    "    pred_df = df_test.copy()\n",
    "    pred_df[\"gender\"] = y_pred\n",
    "    return pred_df\n",
    "    "
   ]
  },
  {
   "attachments": {},
   "cell_type": "markdown",
   "metadata": {},
   "source": [
    "### Creating data dictionaries\n",
    "\n",
    "creating dictoinaries of parametest of the GridSearchCV and the modals I'm going to use.\n",
    "In addition I declared of a list named \"f1_results\" which store the results of the tests."
   ]
  },
  {
   "cell_type": "code",
   "execution_count": 13,
   "metadata": {},
   "outputs": [],
   "source": [
    "# Add as many code cells as you need\n",
    "# YOUR CODE HERE\n",
    "grid_params = {\n",
    "        'grid_param_logistic': {\n",
    "        'penalty': ['l1', 'l2'],\n",
    "        'C': [0.01, 0.1, 1.0, 10.0, 100.0],\n",
    "        'solver': ['lbfgs', 'newton-cg', 'liblinear'],\n",
    "        'class_weight': [{0: 1, 1: 1}, {0: 1, 1: 3}, {0: 1, 1: 5}],\n",
    "        'random_state': [41, 42],\n",
    "        'max_iter': [1000, 2000]\n",
    "    },\n",
    "\n",
    "    'param_grid_NB' : {\n",
    "        'alpha': [0.01, 0.1, 1.0, 10.0, 100.0],\n",
    "        'fit_prior': [True, False],\n",
    "        'class_prior': [None, [0.2, 0.8], [0.3, 0.7], [0.4, 0.6], [0.5, 0.5], [0.6, 0.4], [0.7, 0.3], [0.8, 0.2], [0.9, 0.1]]\n",
    "    },\n",
    "\n",
    "    'param_grid_KNN': {'n_neighbors':range(1,25,2)}}\n",
    "\n",
    "modals = {'LogisticRegression': LogisticRegression(),\n",
    "          'MultinomialNB': MultinomialNB(),\n",
    "          'KNeighborsClassifier': KNeighborsClassifier()}\n",
    "\n",
    "f1_results = []\n"
   ]
  },
  {
   "attachments": {},
   "cell_type": "markdown",
   "metadata": {},
   "source": [
    "#### Testing modals with TfidfVectorizer and CountVectorizer\n",
    "\n",
    "Initializing the vectorizer and calling all for the calculation method for all the modals.\n",
    "I used 3 modals, the MultinomialNB and KNeighborsClassifier I learnd in class. The Logisticregression modal I learn in previos cours.\n",
    "Logistic regression is a type of statistical model used for binary classification tasks. It is a supervised learning algorithm that is widely used in machine learning and statistics.\n",
    "In logistic regression, the goal is to predict the probability of a binary outcome based on a set of independent variables (also known as features or predictors). The binary outcome typically represents two classes, such as \"yes\" or \"no,\" \"true\" or \"false,\" or \"0\" or \"1.\"\n",
    "\n",
    "\n",
    "Each result I stored in a list for a later use"
   ]
  },
  {
   "cell_type": "code",
   "execution_count": 14,
   "metadata": {},
   "outputs": [
    {
     "name": "stdout",
     "output_type": "stream",
     "text": [
      "TfidfVectorizer: \n",
      "\n",
      "\n",
      "The Used:  LogisticRegression(class_weight={0: 1, 1: 5}, max_iter=1000, random_state=41,\n",
      "                   solver='liblinear') \n",
      "\n",
      "f1 male:  0.8898893099752037\n",
      "f1 female:  0.5917145518937821\n",
      "f1 average:  0.7408019309344929\n",
      "\n",
      "The Used:  MultinomialNB(alpha=0.1, class_prior=[0.4, 0.6]) \n",
      "\n",
      "f1 male:  0.8857013607299683\n",
      "f1 female:  0.5773899388394426\n",
      "f1 average:  0.7315456497847055\n",
      "\n",
      "The Used:  KNeighborsClassifier(n_neighbors=1) \n",
      "\n",
      "f1 male:  0.8682678317349819\n",
      "f1 female:  0.44637724832846787\n",
      "f1 average:  0.6573225400317249\n"
     ]
    }
   ],
   "source": [
    "print(\"TfidfVectorizer: \\n\")\n",
    "full_data = textPreprocess(df_train)\n",
    "vec_modal, vec_tfidf_df = tfidf_vectorization(5, 1.0, (1,3), full_data.copy())\n",
    "\n",
    "X_male, y_male, X_female, y_female = split_data(vec_tfidf_df)\n",
    "\n",
    "f1_score_male, f1_score_female, f1_average, modal = calc_f1(modals['LogisticRegression'], grid_params['grid_param_logistic'], X_male, y_male, X_female, y_female)\n",
    "print(\"\\nThe Used: \", modal, \"\\n\")\n",
    "print(\"f1 male: \", f1_score_male)\n",
    "print(\"f1 female: \", f1_score_female)\n",
    "print(\"f1 average: \", f1_average)\n",
    "f1_results.append({'vectorizer':vec_modal,'modal':modal, 'result': f1_average})\n",
    "\n",
    "f1_score_male, f1_score_female, f1_average, modal = calc_f1(modals['MultinomialNB'], grid_params['param_grid_NB'], X_male, y_male, X_female, y_female)\n",
    "print(\"\\nThe Used: \", modal, \"\\n\")\n",
    "print(\"f1 male: \", f1_score_male)\n",
    "print(\"f1 female: \", f1_score_female)\n",
    "print(\"f1 average: \", f1_average)\n",
    "f1_results.append({'vectorizer':vec_modal,'modal':modal, 'result': f1_average})\n",
    "\n",
    "f1_score_male, f1_score_female, f1_average, modal = calc_f1(modals['KNeighborsClassifier'], grid_params['param_grid_KNN'], X_male, y_male, X_female, y_female)\n",
    "print(\"\\nThe Used: \", modal, \"\\n\")\n",
    "print(\"f1 male: \", f1_score_male)\n",
    "print(\"f1 female: \", f1_score_female)\n",
    "print(\"f1 average: \", f1_average)\n",
    "f1_results.append({'vectorizer':vec_modal,'modal':modal, 'result': f1_average})\n"
   ]
  },
  {
   "cell_type": "code",
   "execution_count": 15,
   "metadata": {},
   "outputs": [
    {
     "name": "stdout",
     "output_type": "stream",
     "text": [
      "CountVectorizer: \n",
      "\n",
      "\n",
      "The Used:  LogisticRegression(C=0.01, class_weight={0: 1, 1: 5}, max_iter=1000,\n",
      "                   random_state=41, solver='liblinear') \n",
      "\n",
      "f1 male:  0.8866496675900954\n",
      "f1 female:  0.5745444047277307\n",
      "f1 average:  0.7305970361589131\n",
      "\n",
      "The Used:  MultinomialNB(class_prior=[0.2, 0.8]) \n",
      "\n",
      "f1 male:  0.886145134030806\n",
      "f1 female:  0.5392957433048704\n",
      "f1 average:  0.7127204386678382\n",
      "\n",
      "The Used:  KNeighborsClassifier(n_neighbors=1) \n",
      "\n",
      "f1 male:  0.8666243223840044\n",
      "f1 female:  0.26671159029649594\n",
      "f1 average:  0.5666679563402501\n"
     ]
    }
   ],
   "source": [
    "print(\"CountVectorizer: \\n\")\n",
    "full_data = textPreprocess(df_train)\n",
    "vec_modal, vec_cv_df = count_vectorization(5, 1.0, (1,3), full_data.copy())\n",
    "\n",
    "X_male, y_male, X_female, y_female = split_data(vec_cv_df)\n",
    "\n",
    "f1_score_male, f1_score_female, f1_average, modal = calc_f1(modals['LogisticRegression'], grid_params['grid_param_logistic'], X_male, y_male, X_female, y_female)\n",
    "print(\"\\nThe Used: \", modal, \"\\n\")\n",
    "print(\"f1 male: \", f1_score_male)\n",
    "print(\"f1 female: \", f1_score_female)\n",
    "print(\"f1 average: \", f1_average)\n",
    "f1_results.append({'vectorizer':vec_modal,'modal':modal, 'result': f1_average})\n",
    "\n",
    "f1_score_male, f1_score_female, f1_average, modal = calc_f1(modals['MultinomialNB'], grid_params['param_grid_NB'], X_male, y_male, X_female, y_female)\n",
    "print(\"\\nThe Used: \", modal, \"\\n\")\n",
    "print(\"f1 male: \", f1_score_male)\n",
    "print(\"f1 female: \", f1_score_female)\n",
    "print(\"f1 average: \", f1_average)\n",
    "f1_results.append({'vectorizer':vec_modal,'modal':modal, 'result': f1_average})\n",
    "\n",
    "f1_score_male, f1_score_female, f1_average, modal = calc_f1(modals['KNeighborsClassifier'], grid_params['param_grid_KNN'], X_male, y_male, X_female, y_female)\n",
    "print(\"\\nThe Used: \", modal, \"\\n\")\n",
    "print(\"f1 male: \", f1_score_male)\n",
    "print(\"f1 female: \", f1_score_female)\n",
    "print(\"f1 average: \", f1_average)\n",
    "f1_results.append({'vectorizer':vec_modal,'modal':modal, 'result': f1_average})"
   ]
  },
  {
   "attachments": {},
   "cell_type": "markdown",
   "metadata": {},
   "source": [
    "#### show the list of results"
   ]
  },
  {
   "cell_type": "code",
   "execution_count": 16,
   "metadata": {},
   "outputs": [
    {
     "data": {
      "text/plain": [
       "[{'vectorizer': TfidfVectorizer(min_df=5, ngram_range=(1, 3)),\n",
       "  'modal': LogisticRegression(C=0.01, class_weight={0: 1, 1: 5}, max_iter=1000,\n",
       "                     random_state=41, solver='liblinear'),\n",
       "  'result': 0.7408019309344929},\n",
       " {'vectorizer': TfidfVectorizer(min_df=5, ngram_range=(1, 3)),\n",
       "  'modal': MultinomialNB(class_prior=[0.2, 0.8]),\n",
       "  'result': 0.7315456497847055},\n",
       " {'vectorizer': TfidfVectorizer(min_df=5, ngram_range=(1, 3)),\n",
       "  'modal': KNeighborsClassifier(n_neighbors=1),\n",
       "  'result': 0.6573225400317249},\n",
       " {'vectorizer': CountVectorizer(min_df=5, ngram_range=(1, 3)),\n",
       "  'modal': LogisticRegression(C=0.01, class_weight={0: 1, 1: 5}, max_iter=1000,\n",
       "                     random_state=41, solver='liblinear'),\n",
       "  'result': 0.7305970361589131},\n",
       " {'vectorizer': CountVectorizer(min_df=5, ngram_range=(1, 3)),\n",
       "  'modal': MultinomialNB(class_prior=[0.2, 0.8]),\n",
       "  'result': 0.7127204386678382},\n",
       " {'vectorizer': CountVectorizer(min_df=5, ngram_range=(1, 3)),\n",
       "  'modal': KNeighborsClassifier(n_neighbors=1),\n",
       "  'result': 0.5666679563402501}]"
      ]
     },
     "execution_count": 16,
     "metadata": {},
     "output_type": "execute_result"
    }
   ],
   "source": [
    "f1_results"
   ]
  },
  {
   "attachments": {},
   "cell_type": "markdown",
   "metadata": {},
   "source": [
    "#### Find the best score\n",
    "findig the best result from the list"
   ]
  },
  {
   "cell_type": "code",
   "execution_count": 17,
   "metadata": {},
   "outputs": [
    {
     "name": "stdout",
     "output_type": "stream",
     "text": [
      "{'vectorizer': TfidfVectorizer(min_df=5, ngram_range=(1, 3)), 'modal': LogisticRegression(C=0.01, class_weight={0: 1, 1: 5}, max_iter=1000,\n",
      "                   random_state=41, solver='liblinear'), 'result': 0.7408019309344929}\n"
     ]
    }
   ],
   "source": [
    "max_result = {'vectorizer': \"\",'modal':\"\", 'result': 0}\n",
    "for result in f1_results:\n",
    "    if result['result'] > max_result['result']:\n",
    "        max_result = result\n",
    "print(max_result)"
   ]
  },
  {
   "attachments": {},
   "cell_type": "markdown",
   "metadata": {},
   "source": [
    "#### Predicting the gender\n",
    "calling the prediction method on the test dataframe and returning the test dataframe with the predicted labels. at the end I'm presenting the 5 first and last results"
   ]
  },
  {
   "cell_type": "code",
   "execution_count": 18,
   "metadata": {},
   "outputs": [],
   "source": [
    "pred_df_male = predict_test_df(max_result['modal'],max_result['vectorizer'],df_test,X_male,y_male, 'm')"
   ]
  },
  {
   "cell_type": "code",
   "execution_count": 19,
   "metadata": {},
   "outputs": [
    {
     "data": {
      "text/html": [
       "<div>\n",
       "<style scoped>\n",
       "    .dataframe tbody tr th:only-of-type {\n",
       "        vertical-align: middle;\n",
       "    }\n",
       "\n",
       "    .dataframe tbody tr th {\n",
       "        vertical-align: top;\n",
       "    }\n",
       "\n",
       "    .dataframe thead th {\n",
       "        text-align: right;\n",
       "    }\n",
       "</style>\n",
       "<table border=\"1\" class=\"dataframe\">\n",
       "  <thead>\n",
       "    <tr style=\"text-align: right;\">\n",
       "      <th></th>\n",
       "      <th>test_example_id</th>\n",
       "      <th>story</th>\n",
       "      <th>gender</th>\n",
       "    </tr>\n",
       "  </thead>\n",
       "  <tbody>\n",
       "    <tr>\n",
       "      <th>0</th>\n",
       "      <td>0</td>\n",
       "      <td>כל קיץ אני והמשפחה נוסעים לארצות הברית לוס אנג...</td>\n",
       "      <td>m</td>\n",
       "    </tr>\n",
       "    <tr>\n",
       "      <th>1</th>\n",
       "      <td>1</td>\n",
       "      <td>הגעתי לשירות המדינה אחרי שנתיים כפעיל בתנועת \"...</td>\n",
       "      <td>m</td>\n",
       "    </tr>\n",
       "    <tr>\n",
       "      <th>2</th>\n",
       "      <td>2</td>\n",
       "      <td>אחת האהבות הגדולות שלי אלו הכלבים שלי ושל אישת...</td>\n",
       "      <td>m</td>\n",
       "    </tr>\n",
       "    <tr>\n",
       "      <th>3</th>\n",
       "      <td>3</td>\n",
       "      <td>רגע הגיוס לצבא היה הרגע הכי משמעותי עבורי, אני...</td>\n",
       "      <td>m</td>\n",
       "    </tr>\n",
       "    <tr>\n",
       "      <th>4</th>\n",
       "      <td>4</td>\n",
       "      <td>אני הגעתי לברזיל ישר מקולומביה וגם אני עשיתי ע...</td>\n",
       "      <td>m</td>\n",
       "    </tr>\n",
       "  </tbody>\n",
       "</table>\n",
       "</div>"
      ],
      "text/plain": [
       "   test_example_id                                              story gender\n",
       "0                0  כל קיץ אני והמשפחה נוסעים לארצות הברית לוס אנג...      m\n",
       "1                1  הגעתי לשירות המדינה אחרי שנתיים כפעיל בתנועת \"...      m\n",
       "2                2  אחת האהבות הגדולות שלי אלו הכלבים שלי ושל אישת...      m\n",
       "3                3  רגע הגיוס לצבא היה הרגע הכי משמעותי עבורי, אני...      m\n",
       "4                4  אני הגעתי לברזיל ישר מקולומביה וגם אני עשיתי ע...      m"
      ]
     },
     "execution_count": 19,
     "metadata": {},
     "output_type": "execute_result"
    },
    {
     "data": {
      "text/html": [
       "<div>\n",
       "<style scoped>\n",
       "    .dataframe tbody tr th:only-of-type {\n",
       "        vertical-align: middle;\n",
       "    }\n",
       "\n",
       "    .dataframe tbody tr th {\n",
       "        vertical-align: top;\n",
       "    }\n",
       "\n",
       "    .dataframe thead th {\n",
       "        text-align: right;\n",
       "    }\n",
       "</style>\n",
       "<table border=\"1\" class=\"dataframe\">\n",
       "  <thead>\n",
       "    <tr style=\"text-align: right;\">\n",
       "      <th></th>\n",
       "      <th>test_example_id</th>\n",
       "      <th>story</th>\n",
       "      <th>gender</th>\n",
       "    </tr>\n",
       "  </thead>\n",
       "  <tbody>\n",
       "    <tr>\n",
       "      <th>318</th>\n",
       "      <td>318</td>\n",
       "      <td>בשנה האחרונה הרגשתי די תקוע בעבודה, השגרה הפכה...</td>\n",
       "      <td>m</td>\n",
       "    </tr>\n",
       "    <tr>\n",
       "      <th>319</th>\n",
       "      <td>319</td>\n",
       "      <td>אני ואילן חברים טובים מזה 20 שנה תמיד חלמנו לפ...</td>\n",
       "      <td>m</td>\n",
       "    </tr>\n",
       "    <tr>\n",
       "      <th>320</th>\n",
       "      <td>320</td>\n",
       "      <td>מידי יום שישי אני נוהג לנסוע בתחבורה ציבורית ס...</td>\n",
       "      <td>m</td>\n",
       "    </tr>\n",
       "    <tr>\n",
       "      <th>321</th>\n",
       "      <td>321</td>\n",
       "      <td>לפני מספר חודשים, בשיא התחלואה של הגל השני, עמ...</td>\n",
       "      <td>m</td>\n",
       "    </tr>\n",
       "    <tr>\n",
       "      <th>322</th>\n",
       "      <td>322</td>\n",
       "      <td>היום בו דיווחתי על גניבה של האוטו שלי. בוקר אח...</td>\n",
       "      <td>m</td>\n",
       "    </tr>\n",
       "  </tbody>\n",
       "</table>\n",
       "</div>"
      ],
      "text/plain": [
       "     test_example_id                                              story gender\n",
       "318              318  בשנה האחרונה הרגשתי די תקוע בעבודה, השגרה הפכה...      m\n",
       "319              319  אני ואילן חברים טובים מזה 20 שנה תמיד חלמנו לפ...      m\n",
       "320              320  מידי יום שישי אני נוהג לנסוע בתחבורה ציבורית ס...      m\n",
       "321              321  לפני מספר חודשים, בשיא התחלואה של הגל השני, עמ...      m\n",
       "322              322  היום בו דיווחתי על גניבה של האוטו שלי. בוקר אח...      m"
      ]
     },
     "execution_count": 19,
     "metadata": {},
     "output_type": "execute_result"
    }
   ],
   "source": [
    "pred_df_male.head()\n",
    "pred_df_male.tail()"
   ]
  },
  {
   "cell_type": "code",
   "execution_count": 20,
   "metadata": {},
   "outputs": [],
   "source": [
    "pred_df_female = predict_test_df(max_result['modal'],max_result['vectorizer'],df_test,X_female,y_female,'f')"
   ]
  },
  {
   "cell_type": "code",
   "execution_count": 21,
   "metadata": {},
   "outputs": [
    {
     "data": {
      "text/html": [
       "<div>\n",
       "<style scoped>\n",
       "    .dataframe tbody tr th:only-of-type {\n",
       "        vertical-align: middle;\n",
       "    }\n",
       "\n",
       "    .dataframe tbody tr th {\n",
       "        vertical-align: top;\n",
       "    }\n",
       "\n",
       "    .dataframe thead th {\n",
       "        text-align: right;\n",
       "    }\n",
       "</style>\n",
       "<table border=\"1\" class=\"dataframe\">\n",
       "  <thead>\n",
       "    <tr style=\"text-align: right;\">\n",
       "      <th></th>\n",
       "      <th>test_example_id</th>\n",
       "      <th>story</th>\n",
       "      <th>gender</th>\n",
       "    </tr>\n",
       "  </thead>\n",
       "  <tbody>\n",
       "    <tr>\n",
       "      <th>0</th>\n",
       "      <td>0</td>\n",
       "      <td>כל קיץ אני והמשפחה נוסעים לארצות הברית לוס אנג...</td>\n",
       "      <td>m</td>\n",
       "    </tr>\n",
       "    <tr>\n",
       "      <th>1</th>\n",
       "      <td>1</td>\n",
       "      <td>הגעתי לשירות המדינה אחרי שנתיים כפעיל בתנועת \"...</td>\n",
       "      <td>m</td>\n",
       "    </tr>\n",
       "    <tr>\n",
       "      <th>2</th>\n",
       "      <td>2</td>\n",
       "      <td>אחת האהבות הגדולות שלי אלו הכלבים שלי ושל אישת...</td>\n",
       "      <td>m</td>\n",
       "    </tr>\n",
       "    <tr>\n",
       "      <th>3</th>\n",
       "      <td>3</td>\n",
       "      <td>רגע הגיוס לצבא היה הרגע הכי משמעותי עבורי, אני...</td>\n",
       "      <td>m</td>\n",
       "    </tr>\n",
       "    <tr>\n",
       "      <th>4</th>\n",
       "      <td>4</td>\n",
       "      <td>אני הגעתי לברזיל ישר מקולומביה וגם אני עשיתי ע...</td>\n",
       "      <td>m</td>\n",
       "    </tr>\n",
       "  </tbody>\n",
       "</table>\n",
       "</div>"
      ],
      "text/plain": [
       "   test_example_id                                              story gender\n",
       "0                0  כל קיץ אני והמשפחה נוסעים לארצות הברית לוס אנג...      m\n",
       "1                1  הגעתי לשירות המדינה אחרי שנתיים כפעיל בתנועת \"...      m\n",
       "2                2  אחת האהבות הגדולות שלי אלו הכלבים שלי ושל אישת...      m\n",
       "3                3  רגע הגיוס לצבא היה הרגע הכי משמעותי עבורי, אני...      m\n",
       "4                4  אני הגעתי לברזיל ישר מקולומביה וגם אני עשיתי ע...      m"
      ]
     },
     "execution_count": 21,
     "metadata": {},
     "output_type": "execute_result"
    },
    {
     "data": {
      "text/html": [
       "<div>\n",
       "<style scoped>\n",
       "    .dataframe tbody tr th:only-of-type {\n",
       "        vertical-align: middle;\n",
       "    }\n",
       "\n",
       "    .dataframe tbody tr th {\n",
       "        vertical-align: top;\n",
       "    }\n",
       "\n",
       "    .dataframe thead th {\n",
       "        text-align: right;\n",
       "    }\n",
       "</style>\n",
       "<table border=\"1\" class=\"dataframe\">\n",
       "  <thead>\n",
       "    <tr style=\"text-align: right;\">\n",
       "      <th></th>\n",
       "      <th>test_example_id</th>\n",
       "      <th>story</th>\n",
       "      <th>gender</th>\n",
       "    </tr>\n",
       "  </thead>\n",
       "  <tbody>\n",
       "    <tr>\n",
       "      <th>318</th>\n",
       "      <td>318</td>\n",
       "      <td>בשנה האחרונה הרגשתי די תקוע בעבודה, השגרה הפכה...</td>\n",
       "      <td>m</td>\n",
       "    </tr>\n",
       "    <tr>\n",
       "      <th>319</th>\n",
       "      <td>319</td>\n",
       "      <td>אני ואילן חברים טובים מזה 20 שנה תמיד חלמנו לפ...</td>\n",
       "      <td>m</td>\n",
       "    </tr>\n",
       "    <tr>\n",
       "      <th>320</th>\n",
       "      <td>320</td>\n",
       "      <td>מידי יום שישי אני נוהג לנסוע בתחבורה ציבורית ס...</td>\n",
       "      <td>m</td>\n",
       "    </tr>\n",
       "    <tr>\n",
       "      <th>321</th>\n",
       "      <td>321</td>\n",
       "      <td>לפני מספר חודשים, בשיא התחלואה של הגל השני, עמ...</td>\n",
       "      <td>m</td>\n",
       "    </tr>\n",
       "    <tr>\n",
       "      <th>322</th>\n",
       "      <td>322</td>\n",
       "      <td>היום בו דיווחתי על גניבה של האוטו שלי. בוקר אח...</td>\n",
       "      <td>m</td>\n",
       "    </tr>\n",
       "  </tbody>\n",
       "</table>\n",
       "</div>"
      ],
      "text/plain": [
       "     test_example_id                                              story gender\n",
       "318              318  בשנה האחרונה הרגשתי די תקוע בעבודה, השגרה הפכה...      m\n",
       "319              319  אני ואילן חברים טובים מזה 20 שנה תמיד חלמנו לפ...      m\n",
       "320              320  מידי יום שישי אני נוהג לנסוע בתחבורה ציבורית ס...      m\n",
       "321              321  לפני מספר חודשים, בשיא התחלואה של הגל השני, עמ...      m\n",
       "322              322  היום בו דיווחתי על גניבה של האוטו שלי. בוקר אח...      m"
      ]
     },
     "execution_count": 21,
     "metadata": {},
     "output_type": "execute_result"
    }
   ],
   "source": [
    "pred_df_female.head()\n",
    "pred_df_female.tail()"
   ]
  },
  {
   "cell_type": "code",
   "execution_count": null,
   "metadata": {},
   "outputs": [],
   "source": []
  },
  {
   "cell_type": "code",
   "execution_count": null,
   "metadata": {},
   "outputs": [],
   "source": []
  },
  {
   "attachments": {},
   "cell_type": "markdown",
   "metadata": {},
   "source": [
    "### Save output to csv (optional)\n",
    "After you're done save your output to the 'classification_results.csv' csv file.<br/>\n",
    "We assume that the dataframe with your results contain the following columns:\n",
    "* column 1 (left column): 'test_example_id'  - the same id associated to each of the test stories to be predicted.\n",
    "* column 2 (right column): 'predicted_category' - the predicted gender value for each of the associated story. \n",
    "\n",
    "Assuming your predicted values are in the `df_predicted` dataframe, you should save you're results as following:"
   ]
  },
  {
   "cell_type": "code",
   "execution_count": null,
   "metadata": {},
   "outputs": [],
   "source": [
    "df_predicted.to_csv('classification_results.csv',index=False)"
   ]
  }
 ],
 "metadata": {
  "celltoolbar": "Create Assignment",
  "kernelspec": {
   "display_name": "Python 3 (ipykernel)",
   "language": "python",
   "name": "python3"
  },
  "language_info": {
   "codemirror_mode": {
    "name": "ipython",
    "version": 3
   },
   "file_extension": ".py",
   "mimetype": "text/x-python",
   "name": "python",
   "nbconvert_exporter": "python",
   "pygments_lexer": "ipython3",
   "version": "3.9.6"
  }
 },
 "nbformat": 4,
 "nbformat_minor": 4
}
